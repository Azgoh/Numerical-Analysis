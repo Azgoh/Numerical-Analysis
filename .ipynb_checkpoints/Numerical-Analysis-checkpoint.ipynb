{
 "cells": [
  {
   "cell_type": "code",
   "execution_count": 7,
   "id": "a1890581-4afc-4e0c-9e37-6887a2004659",
   "metadata": {},
   "outputs": [],
   "source": [
    "import numpy as np\n",
    "import matplotlib"
   ]
  },
  {
   "cell_type": "markdown",
   "id": "3c81852f-7ee7-4585-b24a-51669dd58d1a",
   "metadata": {},
   "source": [
    "#### The following function is already provided. It's purpose is to perform LU decomposition to a matrix."
   ]
  },
  {
   "cell_type": "code",
   "execution_count": 8,
   "id": "56a1bef3-8123-4cf0-997f-a2e7bd37bd9b",
   "metadata": {},
   "outputs": [],
   "source": [
    "def LUmine(A): \n",
    "    n = A.shape[0]\n",
    "    L = np.matrix(np.identity(n))\n",
    "    U = A\n",
    "    for j in range(0, n-1):\n",
    "        for i in range(j+1, n):\n",
    "            mult = A[i,j] / A[j,j] \n",
    "            A[i,j+1:n] = A[i,j+1:n] - mult * A[j,j+1:n]\n",
    "            A[i,j+1:n] = A[i,j+1:n]\n",
    "            L[i,j] = mult\n",
    "            U[i,j] = 0\n",
    "    return L, U\n",
    "            "
   ]
  },
  {
   "cell_type": "markdown",
   "id": "90c6aa76-3522-4e4f-b216-d1433d1b6798",
   "metadata": {},
   "source": [
    "Not sure about this. **FIXME!**"
   ]
  },
  {
   "cell_type": "code",
   "execution_count": 89,
   "id": "1eb6ae3a-9046-478c-b664-0f1c1a96155b",
   "metadata": {},
   "outputs": [],
   "source": [
    "def QRmine(A):\n",
    "    n = A.shape[0]\n",
    "    Q = np.matrix(np.zeros((n, n)))\n",
    "    R = np.matrix(np.zeros((n, n)))\n",
    "    for j in range(n):\n",
    "        q = A[:, j]\n",
    "        for i in range(j):\n",
    "            length_of_leg = np.sum(A[:, j].T * Q[:, i])\n",
    "            q = q - length_of_leg * Q[:, i]\n",
    "        Q[:, j] = q / np.linalg.norm(q)\n",
    "        R[j, j] = np.linalg.norm(q)\n",
    "\n",
    "        for i in range(j + 1, n):\n",
    "            R[j, i] = np.sum(A[:, i] * Q[:, j].T)\n",
    "\n",
    "    return Q, R\n"
   ]
  },
  {
   "cell_type": "code",
   "execution_count": 47,
   "id": "df69fe67-a5e6-48ac-9477-6a07b35e3aa0",
   "metadata": {},
   "outputs": [],
   "source": [
    "A = np.matrix([[1, 1, 0], [1, 0, 1], [0, 1, 1]])\n",
    "Q, R = QRmine(A)\n",
    "norm_diff = np.linalg.norm(A-Q*R)"
   ]
  },
  {
   "cell_type": "markdown",
   "id": "aabec174-4dea-4d10-8b95-8c5c09b0734c",
   "metadata": {},
   "source": [
    "#### The following function creates a Hilbert matrix of a given size. A Hilbert matrix is a square matrix of size nxn, whose elements are given by the following expression: H[i,j] = 1/(i+j+1)."
   ]
  },
  {
   "cell_type": "code",
   "execution_count": 50,
   "id": "0670f64b-c98b-427e-99b4-c698ed922fe5",
   "metadata": {},
   "outputs": [],
   "source": [
    "def create_hilbert_matrix(size):\n",
    "    H = np.matrix(np.zeros((size,size)))\n",
    "    for i in range(size):\n",
    "        for j in range(size):\n",
    "            H[i,j] = 1/(i+j+1)\n",
    "            \n",
    "    return H\n",
    "        "
   ]
  },
  {
   "cell_type": "markdown",
   "id": "925eb3b4-61d2-4064-851e-50b49e7a299e",
   "metadata": {},
   "source": [
    "#### The following function solves the Hx = b system where H is a Hilbert matrix and b is a matrix filled with ones, both of a given size. The system gets solved using the \n",
    "```python\n",
    "np.linalg.solve(H,b) \n",
    "```\n",
    "#### method, which internally uses the LU decomposition. It's also feasible to create our own `solve_LU` function, which will solve the system. Although since numpy has that already built in, we decided not to do so."
   ]
  },
  {
   "cell_type": "code",
   "execution_count": 61,
   "id": "66010bc7-ae41-4f73-9614-cf3096c5b667",
   "metadata": {},
   "outputs": [],
   "source": [
    "def solve_hilbert_system(size):\n",
    "    H = create_hilbert_matrix(size)\n",
    "    b = np.ones((size,1))\n",
    "    return np.linalg.solve(H,b)"
   ]
  },
  {
   "cell_type": "code",
   "execution_count": 91,
   "id": "3646485f-8f26-489d-aa58-5291afb20f4d",
   "metadata": {},
   "outputs": [
    {
     "name": "stdout",
     "output_type": "stream",
     "text": [
      "[[  -4.]\n",
      " [  60.]\n",
      " [-180.]\n",
      " [ 140.]]\n",
      "[[  -4.]\n",
      " [  60.]\n",
      " [-180.]\n",
      " [ 140.]]\n",
      "6.821210263296962e-13\n"
     ]
    }
   ],
   "source": [
    "def new_b_matrix(size):\n",
    "    H = create_hilbert_matrix(size)\n",
    "    b = np.ones((size,1))\n",
    "    b_new = b.copy()\n",
    "    b_new[0,0] += (1e-15)\n",
    "    return np.linalg.solve(H,b_new)\n",
    "x = solve_hilbert_system(4)\n",
    "x_new = new_b_matrix(4)\n",
    "print(x)\n",
    "print(x_new)\n",
    "print(np.max(np.abs(x - x_new)))"
   ]
  }
 ],
 "metadata": {
  "kernelspec": {
   "display_name": "Python 3 (ipykernel)",
   "language": "python",
   "name": "python3"
  },
  "language_info": {
   "codemirror_mode": {
    "name": "ipython",
    "version": 3
   },
   "file_extension": ".py",
   "mimetype": "text/x-python",
   "name": "python",
   "nbconvert_exporter": "python",
   "pygments_lexer": "ipython3",
   "version": "3.10.9"
  }
 },
 "nbformat": 4,
 "nbformat_minor": 5
}
